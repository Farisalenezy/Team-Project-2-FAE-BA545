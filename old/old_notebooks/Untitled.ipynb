{
 "cells": [
  {
   "cell_type": "code",
   "execution_count": 1,
   "metadata": {},
   "outputs": [],
   "source": [
    "from sklearn.model_selection import cross_val_score\n",
    "from sklearn.linear_model import LogisticRegression\n",
    "from sklearn.naive_bayes import GaussianNB\n",
    "from sklearn.ensemble import RandomForestClassifier\n",
    "from sklearn.ensemble import VotingClassifier\n",
    "import pandas as pd\n",
    "import numpy as np\n",
    "\n",
    "from sklearn import model_selection\n",
    "from sklearn.model_selection import cross_val_score\n",
    "\n",
    "from sklearn import metrics\n",
    "from sklearn.metrics import confusion_matrix\n",
    "from sklearn.metrics import classification_report\n",
    "from sklearn.metrics import roc_auc_score\n",
    "from sklearn.metrics import accuracy_score\n",
    "from sklearn.metrics import precision_recall_fscore_support\n",
    "from sklearn.ensemble import GradientBoostingClassifier\n",
    "from sklearn.naive_bayes import BernoulliNB\n",
    "from sklearn.svm import SVC\n",
    "from sklearn.model_selection import cross_val_score, RepeatedKFold\n",
    "from sklearn.metrics import f1_score\n",
    "\n",
    "\n",
    "\n",
    "\n",
    "from sklearn.linear_model import LogisticRegression\n",
    "import matplotlib.pyplot as plt\n",
    "%matplotlib inline\n",
    "\n",
    "import seaborn as sns\n",
    "\n",
    "plt.style.use('seaborn')\n",
    "pd.set_option('display.width', 200)\n",
    "pd.set_option('display.max_colwidth', 20)\n",
    "pd.set_option('display.max_rows', 100)\n",
    "from IPython.display import display, Markdown, Latex\n",
    "from sklearn.ensemble import ExtraTreesClassifier\n"
   ]
  },
  {
   "cell_type": "code",
   "execution_count": 2,
   "metadata": {},
   "outputs": [
    {
     "name": "stderr",
     "output_type": "stream",
     "text": [
      "/opt/tljh/user/lib/python3.6/site-packages/sklearn/model_selection/_split.py:296: FutureWarning: Setting a random_state has no effect since shuffle is False. This will raise an error in 0.24. You should leave random_state to its default (None), or set shuffle=True.\n",
      "  FutureWarning\n"
     ]
    }
   ],
   "source": [
    "\n",
    "\n",
    "\n",
    "#reading the data\n",
    "from scaled_data import *\n",
    "X,y = clean_data()\n",
    "\n",
    "best_x=['PageValues_skew_s', 'TrafficType_dummies_8',\n",
    "        'Region_dummies_2','season_dummies_Spring',\n",
    "        'OperatingSystems_dummies_2', 'Region_dummies_1',\n",
    "       'Weekend_binary','TrafficType_dummies_2',\n",
    "        'average_informational_duration_skew_s','average_ProductRelated_duration_skew_s', \n",
    "        'average_administrative_duration_skew_s','average_BounceRates/ExitRates_skew_s',\n",
    "        'season_dummies_Fall']\n",
    "#X=X[best_x]\n",
    "VC_Xdata = X.copy() #making our X columns\n",
    "\n",
    "\n",
    "#getting the values of our x features:\n",
    "#Xrf_model = rf_model_Xdata[best_features_spsa].values\n",
    "#Xrf_model= rf_model_Xdata[cols_2].values\n",
    "XVC_model = VC_Xdata.values\n",
    "\n",
    "#getting the values of our y:\n",
    "y_VC_model = y.values.ravel() # target\n",
    "\n",
    "\n",
    "from sklearn.model_selection import train_test_split\n",
    "\n",
    "#Splitting data test&train \n",
    "X_train, X_test, y_train, y_test= train_test_split(XVC_model, y_VC_model , test_size=0.25, random_state=123)\n",
    "\n",
    "from imblearn.over_sampling import SMOTE\n",
    "\n",
    "sm =SMOTE(k_neighbors=20)\n",
    "X_train_bal, y_train_bal = sm.fit_sample(X_train, y_train)\n",
    "\n",
    "\n",
    "\n",
    "\n",
    "from sklearn import model_selection \n",
    "from sklearn.ensemble import BaggingClassifier \n",
    "from sklearn.tree import DecisionTreeClassifier \n",
    "import pandas as pd \n",
    "  \n",
    "from sklearn.ensemble import ExtraTreesClassifier\n",
    "\n",
    "  \n",
    "seed = 123\n",
    "kfold = model_selection.KFold(n_splits = 3, \n",
    "                       random_state = seed) \n",
    "  \n",
    "# initialize the base classifier \n",
    "base_cls = RandomForestClassifier(max_depth =  4 ,\n",
    "                                  min_samples_split = 6,\n",
    "                                  min_samples_leaf =1  , \n",
    "                                 \n",
    "                                  random_state=123)\n",
    "# no. of base classifier \n",
    "num_trees = 100\n",
    "  \n",
    "# bagging classifier \n",
    "eclf = BaggingClassifier(\n",
    "                          n_estimators = num_trees, \n",
    "                          random_state = seed) \n",
    "  \n",
    "#results = model_selection.cross_val_score(model, X_train_bal, y_train_bal, cv = kfold) \n",
    "\n",
    "eclf.fit(X_train_bal,y_train_bal)\n",
    "\n",
    "eclf_train_pred= eclf.predict(X_train_bal)\n",
    "\n",
    "eclf_test_pred = eclf.predict(X_test)"
   ]
  },
  {
   "cell_type": "code",
   "execution_count": 3,
   "metadata": {},
   "outputs": [
    {
     "name": "stdout",
     "output_type": "stream",
     "text": [
      "Training Metrics\n",
      "Accuracy: 1.0\n",
      "Precision: 1.0\n",
      "Recall: 1.0\n",
      "f1: 1.0\n",
      "Roc -Auc Curve 1.0\n",
      "Test Metrics\n",
      "Accuracy: 0.8692831657476484\n",
      "Precision: 0.5780141843971631\n",
      "Recall: 0.6639511201629328\n",
      "F1: 0.872872087515688\n",
      "Roc -Auc Curve 0.7860650662543059\n",
      "Test Classification Report\n",
      "              precision    recall  f1-score   support\n",
      "\n",
      "           0       0.93      0.91      0.92      2592\n",
      "           1       0.58      0.66      0.62       491\n",
      "\n",
      "    accuracy                           0.87      3083\n",
      "   macro avg       0.76      0.79      0.77      3083\n",
      "weighted avg       0.88      0.87      0.87      3083\n",
      "\n"
     ]
    },
    {
     "data": {
      "image/png": "[encoded data removed]",
      "text/plain": [
       "<Figure size 576x396 with 1 Axes>"
      ]
     },
     "metadata": {},
     "output_type": "display_data"
    },
    {
     "data": {
      "image/png": "[encoded data removed]",
      "text/plain": [
       "<Figure size 576x396 with 1 Axes>"
      ]
     },
     "metadata": {},
     "output_type": "display_data"
    }
   ],
   "source": [
    "from sklearn.metrics import accuracy_score,precision_score,recall_score ,roc_auc_score ,roc_curve, auc , precision_recall_fscore_support\n",
    "eclf.fit(X_train_bal,y_train_bal)\n",
    "\n",
    "eclf_train_pred= eclf.predict(X_train_bal)\n",
    "\n",
    "eclf_test_pred = eclf.predict(X_test)\n",
    "\n",
    "print(\"Training Metrics\")\n",
    "print(\"Accuracy:\",accuracy_score(y_train_bal,eclf_train_pred))\n",
    "print(\"Precision:\",precision_score(y_train_bal,eclf_train_pred))\n",
    "print(\"Recall:\",recall_score(y_train_bal,eclf_train_pred))\n",
    "print(\"f1:\",f1_score(y_train_bal,eclf_train_pred, average='weighted'))\n",
    "false_positive_rate, true_positive_rate, thresholds = roc_curve(y_train_bal,eclf_train_pred)\n",
    "roc_auc = auc(false_positive_rate, true_positive_rate)\n",
    "\n",
    "print('Roc -Auc Curve',roc_auc)\n",
    "\n",
    "print(\"Test Metrics\")\n",
    "print(\"Accuracy:\",accuracy_score(y_test,eclf_test_pred))\n",
    "print(\"Precision:\",precision_score(y_test,eclf_test_pred))\n",
    "print(\"Recall:\",recall_score(y_test,eclf_test_pred))\n",
    "print(\"F1:\",f1_score(y_test,eclf_test_pred, average='weighted'))\n",
    "false_positive_rate, true_positive_rate, thresholds = roc_curve(y_test,eclf_test_pred)\n",
    "roc_auc = auc(false_positive_rate, true_positive_rate)\n",
    "\n",
    "print('Roc -Auc Curve',roc_auc)\n",
    "\n",
    "from sklearn.metrics import classification_report\n",
    "print('Test Classification Report')\n",
    "print(classification_report(y_test,eclf_test_pred))\n",
    "\n",
    "\n",
    "\n",
    "\n",
    "from sklearn.metrics import roc_curve, auc\n",
    "\n",
    "confusion_matrix = metrics.confusion_matrix(y_test, eclf_test_pred)\n",
    "\n",
    "sns.heatmap(confusion_matrix,annot=True,\n",
    "            lw =2,\n",
    "            cbar=False,\n",
    "            fmt=\"d\"\n",
    "           )\n",
    "plt.ylabel(\"True Values\")\n",
    "plt.xlabel(\"Predicted Values\")\n",
    "plt.title(\"Confusion Matrix\")\n",
    "plt.show()\n",
    "\n",
    "y_pred_proba = eclf.predict_proba(X_test)[::,1]\n",
    "fpr, tpr, _ = metrics.roc_curve(y_test,  y_pred_proba)\n",
    "auc = metrics.roc_auc_score(y_test, y_pred_proba)\n",
    "plt.plot(fpr,tpr,label=\"auc=\"+str(auc))\n",
    "plt.legend(loc=4)\n",
    "plt.show()\n"
   ]
  },
  {
   "cell_type": "code",
   "execution_count": null,
   "metadata": {},
   "outputs": [],
   "source": [
    "results = model_selection.cross_val_score(model, X_train_bal, y_train_bal, cv = 5) \n",
    "print(\"accuracy :\") \n",
    "print(results.mean())\n",
    "auc = model_selection.cross_val_score(model, X_train_bal, y_train_bal, cv = 5, scoring='roc_auc') \n",
    "print(\"accuracy :\") \n",
    "print(results.mean())\n",
    "results = model_selection.cross_val_score(model, X_train_bal, y_train_bal, cv = 5,scoring='f1') \n",
    "print(\"f1 :\") \n",
    "print(results.mean())"
   ]
  },
  {
   "cell_type": "code",
   "execution_count": null,
   "metadata": {},
   "outputs": [],
   "source": []
  },
  {
   "cell_type": "code",
   "execution_count": 4,
   "metadata": {},
   "outputs": [
    {
     "name": "stderr",
     "output_type": "stream",
     "text": [
      "/opt/tljh/user/lib/python3.6/site-packages/sklearn/model_selection/_split.py:296: FutureWarning: Setting a random_state has no effect since shuffle is False. This will raise an error in 0.24. You should leave random_state to its default (None), or set shuffle=True.\n",
      "  FutureWarning\n"
     ]
    },
    {
     "data": {
      "text/plain": [
       "'print(\"accuracy :\") \\nprint(results.mean())'"
      ]
     },
     "execution_count": 4,
     "metadata": {},
     "output_type": "execute_result"
    }
   ],
   "source": [
    "from sklearn import model_selection \n",
    "from sklearn.ensemble import BaggingClassifier \n",
    "from sklearn.tree import DecisionTreeClassifier \n",
    "import pandas as pd \n",
    "  \n",
    "from sklearn.ensemble import ExtraTreesClassifier\n",
    "\n",
    "  \n",
    "seed = 123\n",
    "kfold = model_selection.KFold(n_splits = 3, \n",
    "                       random_state = seed) \n",
    "  \n",
    "# initialize the base classifier \n",
    "base_cls = RandomForestClassifier(max_depth =  4 ,\n",
    "                                  min_samples_split = 6,\n",
    "                                  min_samples_leaf =1  , \n",
    "                                  n_estimators = 1750 ,\n",
    "                                  random_state=123)\n",
    "# no. of base classifier \n",
    "num_trees = 40\n",
    "  \n",
    "# bagging classifier \n",
    "eclf = BaggingClassifier(base_estimator = base_cls, \n",
    "                          n_estimators = num_trees, \n",
    "                          random_state = seed) \n",
    "  \n",
    "#results = model_selection.cross_val_score(model, X_train_bal, y_train_bal, cv = kfold) \n",
    "'''print(\"accuracy :\") \n",
    "print(results.mean())'''"
   ]
  },
  {
   "cell_type": "code",
   "execution_count": 6,
   "metadata": {},
   "outputs": [],
   "source": [
    "\n",
    "eclf.fit(X_train_bal,y_train_bal)\n",
    "\n",
    "eclf_train_pred= eclf.predict(X_train_bal)\n",
    "\n",
    "eclf_test_pred = eclf.predict(X_test)"
   ]
  },
  {
   "cell_type": "code",
   "execution_count": null,
   "metadata": {},
   "outputs": [],
   "source": [
    "clf1 = GradientBoostingClassifier(learning_rate=0.05,n_estimators=1250,\n",
    "                                  max_depth=7, min_samples_split=10,\n",
    "                                  min_samples_leaf=1, subsample=1,\n",
    "                                  random_state=123)\n",
    "                                     \n",
    "GB_best_features = ['Browser_dummies_2', 'TrafficType_dummies_8', \n",
    "                    'Region_dummies_2', 'season_dummies_Spring',\n",
    "                    'OperatingSystems_dummies_2', 'Region_dummies_3',\n",
    "                    'Weekend_binary', 'Region_dummies_1',\n",
    "       'TrafficType_dummies_2', 'average_informational_duration_skew_s',\n",
    "                    'average_ProductRelated_duration_skew_s', \n",
    "                    'average_administrative_duration_skew_s',\n",
    "                    'average_BounceRates/ExitRates_skew_s',\n",
    "       'season_dummies_Fall', 'PageValues_skew_s']                      \n",
    "clf2 = ExtraTreesClassifier(n_estimators=300,\n",
    "                                      max_depth=4,min_samples_split=5,\n",
    "                                      min_samples_leaf=2,criterion='gini',\n",
    "                                      min_weight_fraction_leaf=0.0,random_state=123)\n",
    "\n",
    "\n",
    "\n",
    "RF_best_features = ['Region_dummies_1', 'TrafficType_dummies_11',\n",
    "                    'season_dummies_winter', 'Weekend_binary',\n",
    "       'VisitorType_dummies_New_Visitor',\n",
    "                    'VisitorType_dummies_Returning_Visitor',\n",
    "                    'OperatingSystems_dummies_2', 'TrafficType_dummies_3', \n",
    "                    'average_informational_duration_skew_s',\n",
    "       'OperatingSystems_dummies_3', 'season_dummies_Spring',\n",
    "                    'TrafficType_dummies_2', 'season_dummies_Fall',\n",
    "                    'average_ProductRelated_duration_skew_s', \n",
    "                    'average_administrative_duration_skew_s',\n",
    "       'average_BounceRates/ExitRates_skew_s', 'PageValues_skew_s']\n",
    "\n",
    "clf3 = SVC(C=1, break_ties=False, cache_size=200,\n",
    "           class_weight=None, coef0=0.0,\n",
    "    decision_function_shape='ovr', degree=3,\n",
    "           gamma=1, kernel='linear',\n",
    "    max_iter=-1, probability=True, random_state=123,\n",
    "           shrinking=True, tol=0.001,\n",
    "           verbose=False)\n",
    "\n",
    "\n",
    "SVC_best_features = ['Region_dummies_2', 'Browser_dummies_1',\n",
    "                     'Browser_dummies_8', 'Browser_dummies_12',\n",
    "                     'season_dummies_winter', 'Browser_dummies_13', \n",
    "                     'season_dummies_summer', 'season_dummies_Fall',\n",
    "       'OperatingSystems_dummies_7', 'TrafficType_dummies_13', \n",
    "                     'TrafficType_dummies_9', 'TrafficType_dummies_14',\n",
    "                     'TrafficType_dummies_7', 'TrafficType_dummies_6',\n",
    "                     'TrafficType_dummies_20',\n",
    "       'TrafficType_dummies_1', 'TrafficType_dummies_4',\n",
    "                     'TrafficType_dummies_3', 'TrafficType_dummies_5', \n",
    "                     'TrafficType_dummies_10', 'TrafficType_dummies_11',\n",
    "                     'TrafficType_dummies_2',\n",
    "       'TrafficType_dummies_8', 'TrafficType_dummies_16', 'PageValues_skew_s']\n",
    "\n",
    "eclf = VotingClassifier(estimators=[('gb', clf1), ('rf', clf2), (\"SVC\", clf3) ],voting='soft')\n",
    "\n",
    "\n",
    "\n"
   ]
  },
  {
   "cell_type": "code",
   "execution_count": 7,
   "metadata": {},
   "outputs": [],
   "source": [
    "# Authors: Guillaume Lemaitre <g.lemaitre58@gmail.com>\n",
    "# License: MIT\n",
    "\n",
    "import itertools\n",
    "\n",
    "import matplotlib.pyplot as plt\n",
    "import numpy as np\n",
    "\n",
    "from sklearn.model_selection import train_test_split\n",
    "from sklearn.ensemble import BaggingClassifier\n",
    "from sklearn.ensemble import RandomForestClassifier\n",
    "from sklearn.ensemble import AdaBoostClassifier\n",
    "from sklearn.tree import DecisionTreeClassifier\n",
    "from sklearn.metrics import confusion_matrix\n",
    "from sklearn.metrics import balanced_accuracy_score\n",
    "\n",
    "from imblearn.datasets import fetch_datasets\n",
    "from imblearn.ensemble import BalancedBaggingClassifier\n",
    "from imblearn.ensemble import BalancedRandomForestClassifier\n",
    "from imblearn.ensemble import EasyEnsembleClassifier\n",
    "from imblearn.ensemble import RUSBoostClassifier\n",
    "\n",
    "from imblearn.metrics import geometric_mean_score\n",
    "\n",
    "\n",
    "\n",
    "def plot_confusion_matrix(cm, classes, ax,\n",
    "                          normalize=False,\n",
    "                          title='Confusion matrix',\n",
    "                          cmap=plt.cm.Blues):\n",
    "    \"\"\"\n",
    "    This function prints and plots the confusion matrix.\n",
    "    Normalization can be applied by setting `normalize=True`.\n",
    "    \"\"\"\n",
    "    print(cm)\n",
    "    print('')\n",
    "\n",
    "    ax.imshow(cm, interpolation='nearest', cmap=cmap)\n",
    "    ax.set_title(title)\n",
    "    tick_marks = np.arange(len(classes))\n",
    "    plt.xticks(tick_marks, classes, rotation=45)\n",
    "    plt.sca(ax)\n",
    "    plt.yticks(tick_marks, classes)\n",
    "\n",
    "    fmt = '.2f' if normalize else 'd'\n",
    "    thresh = cm.max() / 2.\n",
    "    for i, j in itertools.product(range(cm.shape[0]), range(cm.shape[1])):\n",
    "        ax.text(j, i, format(cm[i, j], fmt),\n",
    "                horizontalalignment=\"center\",\n",
    "                color=\"white\" if cm[i, j] > thresh else \"black\")\n",
    "\n",
    "    ax.set_ylabel('True label')"
   ]
  },
  {
   "cell_type": "code",
   "execution_count": 8,
   "metadata": {},
   "outputs": [
    {
     "name": "stdout",
     "output_type": "stream",
     "text": [
      "Decision tree classifier performance:\n",
      "Balanced accuracy: 0.72 - Geometric mean 0.69\n",
      "[[2340  252]\n",
      " [ 229  262]]\n",
      "\n"
     ]
    },
    {
     "data": {
      "image/png": "[encoded data removed]",
      "text/plain": [
       "<Figure size 576x396 with 1 Axes>"
      ]
     },
     "metadata": {},
     "output_type": "display_data"
    }
   ],
   "source": [
    "tree = DecisionTreeClassifier()\n",
    "tree.fit(X_train, y_train)\n",
    "y_pred_tree = tree.predict(X_test)\n",
    "print('Decision tree classifier performance:')\n",
    "print('Balanced accuracy: {:.2f} - Geometric mean {:.2f}'\n",
    "      .format(balanced_accuracy_score(y_test, y_pred_tree),\n",
    "              geometric_mean_score(y_test, y_pred_tree)))\n",
    "cm_tree = confusion_matrix(y_test, y_pred_tree)\n",
    "fig, ax = plt.subplots()\n",
    "plot_confusion_matrix(cm_tree, classes=np.unique(y), ax=ax,\n",
    "                      title='Decision tree' )"
   ]
  },
  {
   "cell_type": "code",
   "execution_count": 9,
   "metadata": {},
   "outputs": [],
   "source": [
    "bagging = BaggingClassifier(n_estimators=50, random_state=0, n_jobs=-1)\n",
    "balanced_bagging = BalancedBaggingClassifier(n_estimators = 100 ,\n",
    "                                  random_state=123,\n",
    "                                             n_jobs=-1)\n",
    "\n",
    "bagging.fit(X_train_bal, y_train_bal)\n",
    "balanced_bagging.fit(X_train_bal, y_train_bal)\n",
    "\n",
    "y_pred_bc = bagging.predict(X_test)\n",
    "y_pred_bbc = balanced_bagging.predict(X_test)"
   ]
  },
  {
   "cell_type": "code",
   "execution_count": 10,
   "metadata": {},
   "outputs": [
    {
     "name": "stdout",
     "output_type": "stream",
     "text": [
      "Bagging classifier performance:\n",
      "Balanced accuracy: 0.78 - Geometric mean 0.78\n",
      "[[2353  239]\n",
      " [ 166  325]]\n",
      "\n",
      "Balanced Bagging classifier performance:\n",
      "Balanced accuracy: 0.78 - Geometric mean 0.77\n",
      "[[2357  235]\n",
      " [ 169  322]]\n",
      "\n"
     ]
    },
    {
     "data": {
      "image/png": "[encoded data removed]",
      "text/plain": [
       "<Figure size 576x396 with 2 Axes>"
      ]
     },
     "metadata": {},
     "output_type": "display_data"
    }
   ],
   "source": [
    "print('Bagging classifier performance:')\n",
    "print('Balanced accuracy: {:.2f} - Geometric mean {:.2f}'\n",
    "      .format(balanced_accuracy_score(y_test, y_pred_bc),\n",
    "              geometric_mean_score(y_test, y_pred_bc)))\n",
    "cm_bagging = confusion_matrix(y_test, y_pred_bc)\n",
    "fig, ax = plt.subplots(ncols=2)\n",
    "plot_confusion_matrix(cm_bagging, classes=np.unique(np.unique(y)), ax=ax[0],\n",
    "                      title='Bagging')\n",
    "\n",
    "print('Balanced Bagging classifier performance:')\n",
    "print('Balanced accuracy: {:.2f} - Geometric mean {:.2f}'\n",
    "      .format(balanced_accuracy_score(y_test, y_pred_bbc),\n",
    "              geometric_mean_score(y_test, y_pred_bbc)))\n",
    "cm_balanced_bagging = confusion_matrix(y_test, y_pred_bbc)\n",
    "plot_confusion_matrix(cm_balanced_bagging, classes=np.unique(np.unique(y)),\n",
    "                      ax=ax[1], title='Balanced bagging')"
   ]
  },
  {
   "cell_type": "code",
   "execution_count": 11,
   "metadata": {},
   "outputs": [
    {
     "name": "stdout",
     "output_type": "stream",
     "text": [
      "Random Forest classifier performance:\n",
      "Balanced accuracy: 0.72 - Geometric mean 0.68\n",
      "[[2489  103]\n",
      " [ 253  238]]\n",
      "\n",
      "Balanced Random Forest classifier performance:\n",
      "Balanced accuracy: 0.83 - Geometric mean 0.83\n",
      "[[2164  428]\n",
      " [  85  406]]\n",
      "\n"
     ]
    },
    {
     "data": {
      "image/png": "[encoded data removed]",
      "text/plain": [
       "<Figure size 576x396 with 2 Axes>"
      ]
     },
     "metadata": {},
     "output_type": "display_data"
    }
   ],
   "source": [
    "rf = RandomForestClassifier(n_estimators=300, random_state=123, n_jobs=-1)\n",
    "brf = BalancedRandomForestClassifier(max_depth =  4 , \n",
    "                                  min_samples_split = 6,\n",
    "                                  min_samples_leaf =1  , \n",
    "                                  n_estimators = 1750 ,\n",
    "                                  random_state=123,\n",
    "                                     n_jobs=-1)\n",
    "\n",
    "rf.fit(X_train, y_train)\n",
    "brf.fit(X_train, y_train)\n",
    "\n",
    "y_pred_rf = rf.predict(X_test)\n",
    "y_pred_brf = brf.predict(X_test)\n",
    "\n",
    "# Similarly to the previous experiment, the balanced classifier outperform the\n",
    "# classifier which learn from imbalanced bootstrap samples. In addition, random\n",
    "# forest outsperforms the bagging classifier.\n",
    "\n",
    "print('Random Forest classifier performance:')\n",
    "print('Balanced accuracy: {:.2f} - Geometric mean {:.2f}'\n",
    "      .format(balanced_accuracy_score(y_test, y_pred_rf),\n",
    "              geometric_mean_score(y_test, y_pred_rf)))\n",
    "cm_rf = confusion_matrix(y_test, y_pred_rf)\n",
    "fig, ax = plt.subplots(ncols=2)\n",
    "plot_confusion_matrix(cm_rf, classes=np.unique(y), ax=ax[0],\n",
    "                      title='Random forest')\n",
    "\n",
    "print('Balanced Random Forest classifier performance:')\n",
    "print('Balanced accuracy: {:.2f} - Geometric mean {:.2f}'\n",
    "      .format(balanced_accuracy_score(y_test, y_pred_brf),\n",
    "              geometric_mean_score(y_test, y_pred_brf)))\n",
    "cm_brf = confusion_matrix(y_test, y_pred_brf)\n",
    "plot_confusion_matrix(cm_brf, classes=np.unique(y), ax=ax[1],\n",
    "                      title='Balanced random forest')"
   ]
  },
  {
   "cell_type": "code",
   "execution_count": 19,
   "metadata": {},
   "outputs": [],
   "source": [
    "base_estimator = AdaBoostClassifier(n_estimators=50)\n",
    "eec = EasyEnsembleClassifier(n_estimators=50,\n",
    "                             base_estimator=base_estimator,\n",
    "                             n_jobs=-1)\n",
    "eec.fit(X_train_bal, y_train_bal)\n",
    "y_pred_eec = eec.predict(X_test)\n"
   ]
  },
  {
   "cell_type": "code",
   "execution_count": 20,
   "metadata": {},
   "outputs": [
    {
     "name": "stdout",
     "output_type": "stream",
     "text": [
      "Easy ensemble classifier performance:\n",
      "Balanced accuracy: 0.80 - Geometric mean 0.80\n",
      "[[2311  281]\n",
      " [ 139  352]]\n",
      "\n",
      "RUSBoost classifier performance:\n",
      "Balanced accuracy: 0.81 - Geometric mean 0.81\n",
      "[[2320  272]\n",
      " [ 135  356]]\n",
      "\n"
     ]
    },
    {
     "data": {
      "image/png": "[encoded data removed]",
      "text/plain": [
       "<Figure size 576x396 with 2 Axes>"
      ]
     },
     "metadata": {},
     "output_type": "display_data"
    }
   ],
   "source": [
    "print('Easy ensemble classifier performance:')\n",
    "print('Balanced accuracy: {:.2f} - Geometric mean {:.2f}'\n",
    "      .format(balanced_accuracy_score(y_test, y_pred_eec),\n",
    "              geometric_mean_score(y_test, y_pred_eec)))\n",
    "cm_eec = confusion_matrix(y_test, y_pred_eec)\n",
    "fig, ax = plt.subplots(ncols=2)\n",
    "plot_confusion_matrix(cm_eec, classes=np.unique(y), ax=ax[0],\n",
    "                      title='Easy ensemble classifier')\n",
    "\n",
    "rusboost = RUSBoostClassifier(n_estimators=10,\n",
    "                              base_estimator=base_estimator)\n",
    "rusboost.fit(X_train_bal, y_train_bal)\n",
    "y_pred_rusboost = rusboost.predict(X_test)\n",
    "print('RUSBoost classifier performance:')\n",
    "print('Balanced accuracy: {:.2f} - Geometric mean {:.2f}'\n",
    "      .format(balanced_accuracy_score(y_test, y_pred_rusboost),\n",
    "              geometric_mean_score(y_test, y_pred_rusboost)))\n",
    "cm_rusboost = confusion_matrix(y_test, y_pred_rusboost)\n",
    "plot_confusion_matrix(cm_rusboost, classes=np.unique(y),\n",
    "                      ax=ax[1], title='RUSBoost classifier')\n",
    "\n",
    "plt.show()"
   ]
  },
  {
   "cell_type": "code",
   "execution_count": 27,
   "metadata": {},
   "outputs": [
    {
     "name": "stdout",
     "output_type": "stream",
     "text": [
      "Training Metrics\n",
      "Accuracy: 0.9137931034482759\n",
      "Precision: 0.9067285965352749\n",
      "Recall: 0.922477650063857\n",
      "f1: 0.913786601117351\n",
      "Roc -Auc Curve 0.9137931034482758\n",
      "Test Metrics\n",
      "Accuracy: 0.8679857281868311\n",
      "Precision: 0.5668789808917197\n",
      "Recall: 0.725050916496945\n",
      "F1: 0.8742752777503753\n",
      "Roc -Auc Curve 0.8100563224460033\n",
      "Test Classification Report\n",
      "              precision    recall  f1-score   support\n",
      "\n",
      "           0       0.95      0.90      0.92      2592\n",
      "           1       0.57      0.73      0.64       491\n",
      "\n",
      "    accuracy                           0.87      3083\n",
      "   macro avg       0.76      0.81      0.78      3083\n",
      "weighted avg       0.88      0.87      0.87      3083\n",
      "\n"
     ]
    },
    {
     "data": {
      "image/png": "[encoded data removed]",
      "text/plain": [
       "<Figure size 576x396 with 1 Axes>"
      ]
     },
     "metadata": {},
     "output_type": "display_data"
    },
    {
     "data": {
      "image/png": "[encoded data removed]",
      "text/plain": [
       "<Figure size 576x396 with 1 Axes>"
      ]
     },
     "metadata": {},
     "output_type": "display_data"
    }
   ],
   "source": [
    "from sklearn.metrics import accuracy_score,precision_score,recall_score ,roc_auc_score ,roc_curve, auc , precision_recall_fscore_support\n",
    "\n",
    "\n",
    "eclf_train_pred= rusboost.predict(X_train_bal)\n",
    "\n",
    "eclf_test_pred = y_pred_rusboost\n",
    "\n",
    "print(\"Training Metrics\")\n",
    "print(\"Accuracy:\",accuracy_score(y_train_bal,eclf_train_pred))\n",
    "print(\"Precision:\",precision_score(y_train_bal,eclf_train_pred))\n",
    "print(\"Recall:\",recall_score(y_train_bal,eclf_train_pred))\n",
    "print(\"f1:\",f1_score(y_train_bal,eclf_train_pred, average='weighted'))\n",
    "false_positive_rate, true_positive_rate, thresholds = roc_curve(y_train_bal,eclf_train_pred)\n",
    "roc_auc = auc(false_positive_rate, true_positive_rate)\n",
    "\n",
    "print('Roc -Auc Curve',roc_auc)\n",
    "\n",
    "print(\"Test Metrics\")\n",
    "print(\"Accuracy:\",accuracy_score(y_test,eclf_test_pred))\n",
    "print(\"Precision:\",precision_score(y_test,eclf_test_pred))\n",
    "print(\"Recall:\",recall_score(y_test,eclf_test_pred))\n",
    "print(\"F1:\",f1_score(y_test,eclf_test_pred, average='weighted'))\n",
    "false_positive_rate, true_positive_rate, thresholds = roc_curve(y_test,eclf_test_pred)\n",
    "roc_auc = auc(false_positive_rate, true_positive_rate)\n",
    "\n",
    "print('Roc -Auc Curve',roc_auc)\n",
    "\n",
    "from sklearn.metrics import classification_report\n",
    "print('Test Classification Report')\n",
    "print(classification_report(y_test,eclf_test_pred))\n",
    "\n",
    "\n",
    "\n",
    "\n",
    "from sklearn.metrics import roc_curve, auc\n",
    "\n",
    "confusion_matrix = metrics.confusion_matrix(y_test, eclf_test_pred)\n",
    "\n",
    "sns.heatmap(confusion_matrix,annot=True,\n",
    "            lw =2,\n",
    "            cbar=False,\n",
    "            fmt=\"d\"\n",
    "           )\n",
    "plt.ylabel(\"True Values\")\n",
    "plt.xlabel(\"Predicted Values\")\n",
    "plt.title(\"Confusion Matrix\")\n",
    "plt.show()\n",
    "\n",
    "y_pred_proba =  rusboost.predict_proba(X_test)[::,1]\n",
    "fpr, tpr, _ = metrics.roc_curve(y_test,  y_pred_proba)\n",
    "auc = metrics.roc_auc_score(y_test, y_pred_proba)\n",
    "plt.plot(fpr,tpr,label=\"auc=\"+str(auc))\n",
    "plt.legend(loc=4)\n",
    "plt.show()\n"
   ]
  },
  {
   "cell_type": "code",
   "execution_count": null,
   "metadata": {},
   "outputs": [],
   "source": []
  }
 ],
 "metadata": {
  "kernelspec": {
   "display_name": "Python 3",
   "language": "python",
   "name": "python3"
  },
  "language_info": {
   "codemirror_mode": {
    "name": "ipython",
    "version": 3
   },
   "file_extension": ".py",
   "mimetype": "text/x-python",
   "name": "python",
   "nbconvert_exporter": "python",
   "pygments_lexer": "ipython3",
   "version": "3.6.7"
  }
 },
 "nbformat": 4,
 "nbformat_minor": 4
}
